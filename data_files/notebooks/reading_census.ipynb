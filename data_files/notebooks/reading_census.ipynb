{
 "cells": [
  {
   "cell_type": "code",
   "execution_count": 1,
   "id": "0217611e-f882-4c6a-adda-a50c76df7522",
   "metadata": {},
   "outputs": [],
   "source": [
    "import pandas as pd \n",
    "import psycopg2 as db\n",
    "from sqlalchemy import create_engine\n",
    "import sqlite3"
   ]
  },
  {
   "cell_type": "code",
   "execution_count": 2,
   "id": "5d317efc-66cc-46c9-a2b2-5c8d8cd1242f",
   "metadata": {},
   "outputs": [],
   "source": [
    "df = pd.read_csv('../PopulationbyNationalitybyRegionGovernorateCityandNationalityARCSV.csv')"
   ]
  },
  {
   "cell_type": "code",
   "execution_count": 3,
   "id": "ca687e28-7467-4291-9833-b497005a2753",
   "metadata": {},
   "outputs": [
    {
     "data": {
      "text/html": [
       "<div>\n",
       "<style scoped>\n",
       "    .dataframe tbody tr th:only-of-type {\n",
       "        vertical-align: middle;\n",
       "    }\n",
       "\n",
       "    .dataframe tbody tr th {\n",
       "        vertical-align: top;\n",
       "    }\n",
       "\n",
       "    .dataframe thead th {\n",
       "        text-align: right;\n",
       "    }\n",
       "</style>\n",
       "<table border=\"1\" class=\"dataframe\">\n",
       "  <thead>\n",
       "    <tr style=\"text-align: right;\">\n",
       "      <th></th>\n",
       "      <th>الجنسية</th>\n",
       "      <th>المحافظة</th>\n",
       "      <th>المدينة</th>\n",
       "      <th>المنطقة</th>\n",
       "      <th>النوع</th>\n",
       "      <th>السكان</th>\n",
       "    </tr>\n",
       "  </thead>\n",
       "  <tbody>\n",
       "    <tr>\n",
       "      <th>0</th>\n",
       "      <td>سعودي</td>\n",
       "      <td>ميسان</td>\n",
       "      <td>(القان) ابوضروه</td>\n",
       "      <td>مكة المكرمة</td>\n",
       "      <td>أنثى</td>\n",
       "      <td>8</td>\n",
       "    </tr>\n",
       "    <tr>\n",
       "      <th>1</th>\n",
       "      <td>سعودي</td>\n",
       "      <td>ميسان</td>\n",
       "      <td>(القان) ابوضروه</td>\n",
       "      <td>مكة المكرمة</td>\n",
       "      <td>ذكر</td>\n",
       "      <td>9</td>\n",
       "    </tr>\n",
       "    <tr>\n",
       "      <th>2</th>\n",
       "      <td>سعودي</td>\n",
       "      <td>المهد</td>\n",
       "      <td>آبار البدايع</td>\n",
       "      <td>المدينة المنورة</td>\n",
       "      <td>أنثى</td>\n",
       "      <td>17</td>\n",
       "    </tr>\n",
       "    <tr>\n",
       "      <th>3</th>\n",
       "      <td>سعودي</td>\n",
       "      <td>المهد</td>\n",
       "      <td>آبار البدايع</td>\n",
       "      <td>المدينة المنورة</td>\n",
       "      <td>ذكر</td>\n",
       "      <td>8</td>\n",
       "    </tr>\n",
       "    <tr>\n",
       "      <th>4</th>\n",
       "      <td>سعودي</td>\n",
       "      <td>المهد</td>\n",
       "      <td>آبار الخبره</td>\n",
       "      <td>المدينة المنورة</td>\n",
       "      <td>ذكر</td>\n",
       "      <td>7</td>\n",
       "    </tr>\n",
       "    <tr>\n",
       "      <th>...</th>\n",
       "      <td>...</td>\n",
       "      <td>...</td>\n",
       "      <td>...</td>\n",
       "      <td>...</td>\n",
       "      <td>...</td>\n",
       "      <td>...</td>\n",
       "    </tr>\n",
       "    <tr>\n",
       "      <th>48873</th>\n",
       "      <td>سعودي</td>\n",
       "      <td>ينبع</td>\n",
       "      <td>ينبع النخل</td>\n",
       "      <td>المدينة المنورة</td>\n",
       "      <td>ذكر</td>\n",
       "      <td>632</td>\n",
       "    </tr>\n",
       "    <tr>\n",
       "      <th>48874</th>\n",
       "      <td>غير سعودي</td>\n",
       "      <td>ينبع</td>\n",
       "      <td>ينبع النخل</td>\n",
       "      <td>المدينة المنورة</td>\n",
       "      <td>ذكر</td>\n",
       "      <td>158</td>\n",
       "    </tr>\n",
       "    <tr>\n",
       "      <th>48875</th>\n",
       "      <td>سعودي</td>\n",
       "      <td>تثليث</td>\n",
       "      <td>يهره</td>\n",
       "      <td>عسير</td>\n",
       "      <td>أنثى</td>\n",
       "      <td>231</td>\n",
       "    </tr>\n",
       "    <tr>\n",
       "      <th>48876</th>\n",
       "      <td>سعودي</td>\n",
       "      <td>تثليث</td>\n",
       "      <td>يهره</td>\n",
       "      <td>عسير</td>\n",
       "      <td>ذكر</td>\n",
       "      <td>211</td>\n",
       "    </tr>\n",
       "    <tr>\n",
       "      <th>48877</th>\n",
       "      <td>غير سعودي</td>\n",
       "      <td>تثليث</td>\n",
       "      <td>يهره</td>\n",
       "      <td>عسير</td>\n",
       "      <td>ذكر</td>\n",
       "      <td>8</td>\n",
       "    </tr>\n",
       "  </tbody>\n",
       "</table>\n",
       "<p>48878 rows × 6 columns</p>\n",
       "</div>"
      ],
      "text/plain": [
       "         الجنسية المحافظة          المدينة          المنطقة النوع  السكان\n",
       "0          سعودي    ميسان  (القان) ابوضروه      مكة المكرمة  أنثى       8\n",
       "1          سعودي    ميسان  (القان) ابوضروه      مكة المكرمة   ذكر       9\n",
       "2          سعودي    المهد     آبار البدايع  المدينة المنورة  أنثى      17\n",
       "3          سعودي    المهد     آبار البدايع  المدينة المنورة   ذكر       8\n",
       "4          سعودي    المهد      آبار الخبره  المدينة المنورة   ذكر       7\n",
       "...          ...      ...              ...              ...   ...     ...\n",
       "48873      سعودي     ينبع       ينبع النخل  المدينة المنورة   ذكر     632\n",
       "48874  غير سعودي     ينبع       ينبع النخل  المدينة المنورة   ذكر     158\n",
       "48875      سعودي    تثليث             يهره             عسير  أنثى     231\n",
       "48876      سعودي    تثليث             يهره             عسير   ذكر     211\n",
       "48877  غير سعودي    تثليث             يهره             عسير   ذكر       8\n",
       "\n",
       "[48878 rows x 6 columns]"
      ]
     },
     "execution_count": 3,
     "metadata": {},
     "output_type": "execute_result"
    }
   ],
   "source": [
    "df"
   ]
  },
  {
   "cell_type": "code",
   "execution_count": null,
   "id": "725d5338-291b-4117-b53f-0f91cfab6129",
   "metadata": {},
   "outputs": [],
   "source": []
  },
  {
   "cell_type": "code",
   "execution_count": 4,
   "id": "c0db7e2e-d80a-40e2-a7f4-05aeb68a46e1",
   "metadata": {},
   "outputs": [],
   "source": [
    "# Create SQLAlchemy engine (replace with your actual credentials)\n",
    "engine = create_engine('postgresql+psycopg2://admin:admin@db:5432/analytics')\n",
    "\n",
    "# Example table name\n",
    "table_name = 'testing_con'"
   ]
  },
  {
   "cell_type": "code",
   "execution_count": 5,
   "id": "26381168-0afb-413a-9362-c176d39b84b3",
   "metadata": {},
   "outputs": [
    {
     "data": {
      "text/plain": [
       "878"
      ]
     },
     "execution_count": 5,
     "metadata": {},
     "output_type": "execute_result"
    }
   ],
   "source": [
    "df.to_sql(table_name, con=engine, if_exists='replace', index=False)"
   ]
  },
  {
   "cell_type": "code",
   "execution_count": 6,
   "id": "1ee4353d-a8be-4e59-b005-c67937b626b6",
   "metadata": {},
   "outputs": [],
   "source": [
    "df.to_csv('../output.csv')"
   ]
  },
  {
   "cell_type": "code",
   "execution_count": 7,
   "id": "5297ceb1-142f-4c42-99d0-07112c214108",
   "metadata": {},
   "outputs": [],
   "source": [
    "# sqlite db \n",
    "\n",
    "db_path = '/home/jovyan/work/notebooks/sqlitedb.db' \n",
    "\n",
    "conn = sqlite3.connect(db_path)"
   ]
  },
  {
   "cell_type": "code",
   "execution_count": 8,
   "id": "3e88797d-6bad-4f55-9a61-586ca15af3c2",
   "metadata": {},
   "outputs": [
    {
     "data": {
      "text/plain": [
       "48878"
      ]
     },
     "execution_count": 8,
     "metadata": {},
     "output_type": "execute_result"
    }
   ],
   "source": [
    "df.to_sql('testing_sqlite', conn, if_exists='replace', index=False)\n"
   ]
  },
  {
   "cell_type": "code",
   "execution_count": 9,
   "id": "fbb2b275-15c9-4a55-b57a-cb84ae571566",
   "metadata": {},
   "outputs": [],
   "source": [
    "conn.commit()\n",
    "conn.close()"
   ]
  },
  {
   "cell_type": "code",
   "execution_count": null,
   "id": "4a706957-530a-48de-b973-8deed77b900a",
   "metadata": {},
   "outputs": [],
   "source": []
  }
 ],
 "metadata": {
  "kernelspec": {
   "display_name": "Python 3 (ipykernel)",
   "language": "python",
   "name": "python3"
  },
  "language_info": {
   "codemirror_mode": {
    "name": "ipython",
    "version": 3
   },
   "file_extension": ".py",
   "mimetype": "text/x-python",
   "name": "python",
   "nbconvert_exporter": "python",
   "pygments_lexer": "ipython3",
   "version": "3.11.13"
  }
 },
 "nbformat": 4,
 "nbformat_minor": 5
}
